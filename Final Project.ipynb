{
  "metadata": {
    "kernelspec": {
      "name": "python",
      "display_name": "Pyolite",
      "language": "python"
    },
    "language_info": {
      "codemirror_mode": {
        "name": "python",
        "version": 3
      },
      "file_extension": ".py",
      "mimetype": "text/x-python",
      "name": "python",
      "nbconvert_exporter": "python",
      "pygments_lexer": "ipython3",
      "version": "3.8"
    }
  },
  "nbformat_minor": 4,
  "nbformat": 4,
  "cells": [
    {
      "cell_type": "markdown",
      "source": "<center>\n    <img src=\"https://cf-courses-data.s3.us.cloud-object-storage.appdomain.cloud/IBMDeveloperSkillsNetwork-DS0105EN-SkillsNetwork/labs/Module2/images/SN_web_lightmode.png\" width=\"300\" alt=\"cognitiveclass.ai logo\">\n</center>\n",
      "metadata": {}
    },
    {
      "cell_type": "markdown",
      "source": "#### Add your code below following the instructions given in the course\n",
      "metadata": {}
    },
    {
      "cell_type": "markdown",
      "source": "## Final Project",
      "metadata": {}
    },
    {
      "cell_type": "markdown",
      "source": "Introduction: This assignment is created in order to finish the course named 'Tools for data science'",
      "metadata": {}
    },
    {
      "cell_type": "markdown",
      "source": "Some important data languages studied during the course are:\n    R,\n    Python,\n    SQL",
      "metadata": {}
    },
    {
      "cell_type": "markdown",
      "source": "Some important data libraries for python are: 1. TensorFlow 2. SciPy 3. NumPy 4. Pandas 5. Matplotlib 6. Keras 7. Scikit-learn 8. PyTorch.",
      "metadata": {}
    },
    {
      "cell_type": "markdown",
      "source": "| Data Science Tools |\n| ------ |\n| SAS |\n| Apache spark |\n| Big ML |\n| D3 |\n| etc |",
      "metadata": {}
    },
    {
      "cell_type": "markdown",
      "source": "Arithmetic expression examples:",
      "metadata": {}
    },
    {
      "cell_type": "code",
      "source": "a = 2\nb = 5\nc = a + b\nd = a*b\nprint(\"a is equal to\", a)\nprint(\"b is equal to\", b)\nprint(\"the sum of a and b is\",c)\nprint(\"the multiplication of a and b is\",d)",
      "metadata": {
        "trusted": true
      },
      "execution_count": 3,
      "outputs": [
        {
          "name": "stdout",
          "text": "a is equal to 2\nb is equal to 5\nthe sum of a and b is 7\nthe multiplication of a and b is 10\n",
          "output_type": "stream"
        }
      ]
    },
    {
      "cell_type": "code",
      "source": "a = 90\nb = a/60\nprint(a,\"minutes is\",b,\"hours\")",
      "metadata": {
        "trusted": true
      },
      "execution_count": 7,
      "outputs": [
        {
          "name": "stdout",
          "text": "90 minutes is 1.5 hours\n",
          "output_type": "stream"
        }
      ]
    },
    {
      "cell_type": "markdown",
      "source": "The objectives of this project are:",
      "metadata": {}
    },
    {
      "cell_type": "markdown",
      "source": "Author's name: Herbert Jhordy Manrique Olortegui",
      "metadata": {}
    },
    {
      "cell_type": "code",
      "source": "",
      "metadata": {},
      "execution_count": null,
      "outputs": []
    }
  ]
}